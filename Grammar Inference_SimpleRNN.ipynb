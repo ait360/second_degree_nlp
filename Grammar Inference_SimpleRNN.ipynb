{
 "cells": [
  {
   "cell_type": "code",
   "execution_count": 1,
   "id": "768acfd3",
   "metadata": {},
   "outputs": [
    {
     "name": "stdout",
     "output_type": "stream",
     "text": [
      "Tensorflow: 2.10.0\n"
     ]
    }
   ],
   "source": [
    "import numpy as np\n",
    "from Tomita_Grammars import tomita_3\n",
    "from Training_Functions import make_train_set_for_target\n",
    "import tensorflow as tf\n",
    "\n",
    "print(f'Tensorflow: {tf.__version__}')\n"
   ]
  },
  {
   "cell_type": "code",
   "execution_count": 2,
   "id": "4de0e730",
   "metadata": {},
   "outputs": [],
   "source": [
    "target = tomita_3\n",
    "alphabet = \"01\""
   ]
  },
  {
   "cell_type": "code",
   "execution_count": 3,
   "id": "ce31b96b",
   "metadata": {},
   "outputs": [
    {
     "name": "stdout",
     "output_type": "stream",
     "text": [
      "made train set of size: 2767 , of which positive examples: 1338\n",
      "2767\n",
      "[('', True), ('1', True), ('0', True), ('11', True), ('01', True), ('00', True), ('10', False), ('100', True), ('001', True), ('011', True)]\n"
     ]
    }
   ],
   "source": [
    "train_set = make_train_set_for_target(target,alphabet)\n",
    "\n",
    "print(len(train_set))\n",
    "print(list(train_set.items())[:10])"
   ]
  },
  {
   "cell_type": "code",
   "execution_count": 4,
   "id": "b7209b66",
   "metadata": {},
   "outputs": [
    {
     "name": "stdout",
     "output_type": "stream",
     "text": [
      "['', '1', '0', '11', '01', '00', '10', '100', '001', '011']\n",
      "[True, True, True, True, True, True, False, True, True, True]\n",
      "[[0, 1], [0, 1], [0, 1], [0, 1], [0, 1], [0, 1], [1, 0], [0, 1], [0, 1], [0, 1]]\n"
     ]
    }
   ],
   "source": [
    "words = list(train_set.keys())\n",
    "pre_target = list(train_set.values())\n",
    "print(words[:10])\n",
    "print(pre_target[:10])\n",
    "\n",
    "target = []\n",
    "for i in pre_target:\n",
    "    if i:\n",
    "        target.append([0,1])\n",
    "    else:\n",
    "        target.append([1,0])\n",
    "print(target[:10])\n"
   ]
  },
  {
   "cell_type": "code",
   "execution_count": 5,
   "id": "c41250ed",
   "metadata": {},
   "outputs": [
    {
     "data": {
      "text/plain": [
       "{'<pad>': 0, '0': 1, '1': 2}"
      ]
     },
     "execution_count": 5,
     "metadata": {},
     "output_type": "execute_result"
    }
   ],
   "source": [
    "char_set = ['<pad>'] + list(alphabet)\n",
    "idx2char = {idx:char for idx, char in enumerate(char_set)}\n",
    "char2idx = {char:idx for idx, char in enumerate(char_set)}\n",
    "char2idx"
   ]
  },
  {
   "cell_type": "code",
   "execution_count": 6,
   "id": "4814838d",
   "metadata": {},
   "outputs": [],
   "source": [
    "X = list(map(lambda word: [char2idx.get(char) for char in word], words))\n",
    "X_len = list(map(lambda word: len(word), X))\n",
    "X_target = list(zip(X, target))\n",
    "np.random.shuffle(X_target)\n",
    "X = [i[0] for i in X_target]\n",
    "target = np.array([j[1] for j in X_target])\n"
   ]
  },
  {
   "cell_type": "code",
   "execution_count": 7,
   "id": "8c9bdbdc",
   "metadata": {},
   "outputs": [],
   "source": [
    "from tensorflow.keras.preprocessing.sequence import pad_sequences\n",
    "\n",
    "max_sequence = 30\n",
    "\n",
    "X = pad_sequences(X, maxlen=max_sequence, padding='post', truncating='post')\n",
    "\n",
    "X_train, X_val, target_train, target_val = X[:2100], X[2100:], target[:2100], target[2100:]\n"
   ]
  },
  {
   "cell_type": "code",
   "execution_count": 8,
   "id": "96898a7d",
   "metadata": {},
   "outputs": [
    {
     "data": {
      "text/plain": [
       "<BatchDataset element_spec=(TensorSpec(shape=(None, 30), dtype=tf.int32, name=None), TensorSpec(shape=(None, 2), dtype=tf.int32, name=None))>"
      ]
     },
     "execution_count": 8,
     "metadata": {},
     "output_type": "execute_result"
    }
   ],
   "source": [
    "train_ds = tf.data.Dataset.from_tensor_slices((X_train, target_train)).shuffle(buffer_size=4).batch(batch_size=50)\n",
    "val_ds = tf.data.Dataset.from_tensor_slices((X_val, target_val)).batch(batch_size=50)\n",
    "train_ds"
   ]
  },
  {
   "cell_type": "code",
   "execution_count": 9,
   "id": "56a1411f",
   "metadata": {},
   "outputs": [],
   "source": [
    "input_dim = len(char2idx)\n",
    "output_dim = len(char2idx)"
   ]
  },
  {
   "cell_type": "code",
   "execution_count": 10,
   "id": "9be52520",
   "metadata": {},
   "outputs": [
    {
     "name": "stdout",
     "output_type": "stream",
     "text": [
      "Model: \"sequential\"\n",
      "_________________________________________________________________\n",
      " Layer (type)                Output Shape              Param #   \n",
      "=================================================================\n",
      " embedding (Embedding)       (None, 30, 3)             9         \n",
      "                                                                 \n",
      " simple_rnn (SimpleRNN)      (None, 10)                140       \n",
      "                                                                 \n",
      " dense (Dense)               (None, 2)                 22        \n",
      "                                                                 \n",
      "=================================================================\n",
      "Total params: 171\n",
      "Trainable params: 162\n",
      "Non-trainable params: 9\n",
      "_________________________________________________________________\n"
     ]
    }
   ],
   "source": [
    "from tensorflow.keras import Sequential\n",
    "from tensorflow.keras import layers\n",
    "\n",
    "model = Sequential()\n",
    "model.add(layers.Embedding(input_dim=input_dim, output_dim=output_dim, mask_zero=True,\n",
    "             input_length=max_sequence, trainable=False, \n",
    "             embeddings_initializer=tf.keras.initializers.random_normal()))\n",
    "model.add(layers.SimpleRNN(units=10))\n",
    "model.add(layers.Dense(2, activation='sigmoid'))\n",
    "\n",
    "\n",
    "    \n",
    "\n",
    "\n",
    "\n",
    "model.summary()\n"
   ]
  },
  {
   "cell_type": "code",
   "execution_count": 11,
   "id": "ecc88231",
   "metadata": {},
   "outputs": [],
   "source": [
    "loss_object = tf.keras.losses.MeanSquaredError()\n",
    "optimizer = tf.keras.optimizers.Adam(learning_rate = 0.00025)"
   ]
  },
  {
   "cell_type": "code",
   "execution_count": 12,
   "id": "bf3f1c7e",
   "metadata": {},
   "outputs": [],
   "source": [
    "train_loss = tf.keras.metrics.Mean(name='train_loss')\n",
    "train_accuracy = tf.keras.metrics.CategoricalAccuracy(name='train_accuracy')\n",
    "\n",
    "val_loss = tf.keras.metrics.Mean(name='val_loss')\n",
    "val_accuracy = tf.keras.metrics.CategoricalAccuracy(name='val_accuracy')"
   ]
  },
  {
   "cell_type": "code",
   "execution_count": 13,
   "id": "602be7f3",
   "metadata": {},
   "outputs": [],
   "source": [
    "@tf.function\n",
    "def train_step(X, target):\n",
    "    with tf.GradientTape() as tape:\n",
    "    # training=True is only needed if there are layers with different\n",
    "    # behavior during training versus inference (e.g. Dropout).\n",
    "        predictions = model(X, training=True)\n",
    "        loss = loss_object(target, predictions)\n",
    "    gradients = tape.gradient(loss, model.trainable_variables)\n",
    "    optimizer.apply_gradients(zip(gradients, model.trainable_variables))\n",
    "\n",
    "    train_loss(loss)\n",
    "    train_accuracy(target, predictions)"
   ]
  },
  {
   "cell_type": "code",
   "execution_count": 14,
   "id": "3c8fa686",
   "metadata": {},
   "outputs": [],
   "source": [
    "@tf.function\n",
    "def val_step(X_val, target_val):\n",
    "    # training=False is only needed if there are layers with different\n",
    "    # behavior during training versus inference (e.g. Dropout).\n",
    "    predictions = model(X_val, training=False)\n",
    "    loss = loss_object(target_val, predictions)\n",
    "    val_loss(loss)\n",
    "    val_accuracy(target_val, predictions)"
   ]
  },
  {
   "cell_type": "code",
   "execution_count": 15,
   "id": "108c090b",
   "metadata": {},
   "outputs": [
    {
     "name": "stdout",
     "output_type": "stream",
     "text": [
      "Epoch 1, Loss: 0.25120213627815247, Acc: 48.85714340209961, val Loss: 0.25027328729629517, val Acc: 48.42578887939453\n",
      "Epoch 2, Loss: 0.2508103549480438, Acc: 49.80952453613281, val Loss: 0.25009146332740784, val Acc: 48.72563934326172\n",
      "Epoch 3, Loss: 0.2505708336830139, Acc: 50.142852783203125, val Loss: 0.2499188482761383, val Acc: 49.77511215209961\n",
      "Epoch 4, Loss: 0.25036707520484924, Acc: 50.476192474365234, val Loss: 0.24975410103797913, val Acc: 50.07496643066406\n",
      "Epoch 5, Loss: 0.25018760561943054, Acc: 50.619049072265625, val Loss: 0.24960601329803467, val Acc: 50.374813079833984\n",
      "Epoch 6, Loss: 0.25001758337020874, Acc: 50.666664123535156, val Loss: 0.2494649589061737, val Acc: 50.52473449707031\n",
      "Epoch 7, Loss: 0.24986159801483154, Acc: 51.33333206176758, val Loss: 0.2493365854024887, val Acc: 51.12443542480469\n",
      "Epoch 8, Loss: 0.2497117668390274, Acc: 51.57143020629883, val Loss: 0.24921610951423645, val Acc: 51.57421112060547\n",
      "Epoch 9, Loss: 0.2495676726102829, Acc: 52.0, val Loss: 0.2491016387939453, val Acc: 51.57421112060547\n",
      "Epoch 10, Loss: 0.24942724406719208, Acc: 52.238094329833984, val Loss: 0.24898888170719147, val Acc: 51.57421112060547\n"
     ]
    }
   ],
   "source": [
    "EPOCHS = 10\n",
    "\n",
    "for epoch in range(EPOCHS):\n",
    "    # Reset the metrics at the start of the next epoch\n",
    "    train_loss.reset_states()\n",
    "    train_accuracy.reset_states()\n",
    "    val_loss.reset_states()\n",
    "    val_accuracy.reset_states()\n",
    "\n",
    "    for X_train, target_train in train_ds:\n",
    "        train_step(X_train, target_train)\n",
    "\n",
    "    for X_val, target_val in val_ds:\n",
    "        val_step(X_val, target_val)\n",
    "\n",
    "\n",
    "    print(\n",
    "    f'Epoch {epoch + 1}, '\n",
    "    f'Loss: {train_loss.result()}, '\n",
    "    f'Acc: {train_accuracy.result() * 100}, '\n",
    "    f'val Loss: {val_loss.result()}, '\n",
    "    f'val Acc: {val_accuracy.result() * 100}'\n",
    "    )"
   ]
  }
 ],
 "metadata": {
  "kernelspec": {
   "display_name": "Python 3 (ipykernel)",
   "language": "python",
   "name": "python3"
  },
  "language_info": {
   "codemirror_mode": {
    "name": "ipython",
    "version": 3
   },
   "file_extension": ".py",
   "mimetype": "text/x-python",
   "name": "python",
   "nbconvert_exporter": "python",
   "pygments_lexer": "ipython3",
   "version": "3.8.6"
  }
 },
 "nbformat": 4,
 "nbformat_minor": 5
}
