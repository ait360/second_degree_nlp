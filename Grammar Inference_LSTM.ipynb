{
 "cells": [
  {
   "cell_type": "code",
   "execution_count": 1,
   "id": "768acfd3",
   "metadata": {},
   "outputs": [
    {
     "name": "stdout",
     "output_type": "stream",
     "text": [
      "Tensorflow: 2.10.0\n"
     ]
    }
   ],
   "source": [
    "import numpy as np\n",
    "from Tomita_Grammars import tomita_3\n",
    "from Training_Functions import make_train_set_for_target\n",
    "import tensorflow as tf\n",
    "\n",
    "print(f'Tensorflow: {tf.__version__}')\n"
   ]
  },
  {
   "cell_type": "code",
   "execution_count": 2,
   "id": "4de0e730",
   "metadata": {},
   "outputs": [],
   "source": [
    "target = tomita_3\n",
    "alphabet = \"01\""
   ]
  },
  {
   "cell_type": "code",
   "execution_count": 3,
   "id": "ce31b96b",
   "metadata": {},
   "outputs": [
    {
     "name": "stdout",
     "output_type": "stream",
     "text": [
      "made train set of size: 2729 , of which positive examples: 1303\n",
      "2729\n",
      "[('', True), ('1', True), ('0', True), ('11', True), ('00', True), ('01', True), ('10', False), ('110', True), ('000', True), ('001', True)]\n"
     ]
    }
   ],
   "source": [
    "train_set = make_train_set_for_target(target,alphabet)\n",
    "\n",
    "print(len(train_set))\n",
    "print(list(train_set.items())[:10])"
   ]
  },
  {
   "cell_type": "code",
   "execution_count": 4,
   "id": "b7209b66",
   "metadata": {},
   "outputs": [
    {
     "name": "stdout",
     "output_type": "stream",
     "text": [
      "['', '1', '0', '11', '00', '01', '10', '110', '000', '001']\n",
      "[True, True, True, True, True, True, False, True, True, True]\n",
      "[[0, 1], [0, 1], [0, 1], [0, 1], [0, 1], [0, 1], [1, 0], [0, 1], [0, 1], [0, 1]]\n"
     ]
    }
   ],
   "source": [
    "words = list(train_set.keys())\n",
    "pre_target = list(train_set.values())\n",
    "print(words[:10])\n",
    "print(pre_target[:10])\n",
    "\n",
    "target = []\n",
    "for i in pre_target:\n",
    "    if i:\n",
    "        target.append([0,1])\n",
    "    else:\n",
    "        target.append([1,0])\n",
    "print(target[:10])\n"
   ]
  },
  {
   "cell_type": "code",
   "execution_count": 5,
   "id": "c41250ed",
   "metadata": {},
   "outputs": [
    {
     "data": {
      "text/plain": [
       "{'<pad>': 0, '0': 1, '1': 2}"
      ]
     },
     "execution_count": 5,
     "metadata": {},
     "output_type": "execute_result"
    }
   ],
   "source": [
    "char_set = ['<pad>'] + list(alphabet)\n",
    "idx2char = {idx:char for idx, char in enumerate(char_set)}\n",
    "char2idx = {char:idx for idx, char in enumerate(char_set)}\n",
    "char2idx"
   ]
  },
  {
   "cell_type": "code",
   "execution_count": 6,
   "id": "4814838d",
   "metadata": {},
   "outputs": [],
   "source": [
    "X = list(map(lambda word: [char2idx.get(char) for char in word], words))\n",
    "X_len = list(map(lambda word: len(word), X))\n",
    "X_target = list(zip(X, target))\n",
    "np.random.shuffle(X_target)\n",
    "X = [i[0] for i in X_target]\n",
    "target = np.array([j[1] for j in X_target])\n"
   ]
  },
  {
   "cell_type": "code",
   "execution_count": 7,
   "id": "8c9bdbdc",
   "metadata": {},
   "outputs": [],
   "source": [
    "from tensorflow.keras.preprocessing.sequence import pad_sequences\n",
    "\n",
    "max_sequence = 30\n",
    "\n",
    "X = pad_sequences(X, maxlen=max_sequence, padding='post', truncating='post')\n",
    "\n",
    "X_train, X_val, target_train, target_val = X[:2100], X[2100:], target[:2100], target[2100:]\n"
   ]
  },
  {
   "cell_type": "code",
   "execution_count": 8,
   "id": "96898a7d",
   "metadata": {},
   "outputs": [
    {
     "data": {
      "text/plain": [
       "<BatchDataset element_spec=(TensorSpec(shape=(None, 30), dtype=tf.int32, name=None), TensorSpec(shape=(None, 2), dtype=tf.int32, name=None))>"
      ]
     },
     "execution_count": 8,
     "metadata": {},
     "output_type": "execute_result"
    }
   ],
   "source": [
    "train_ds = tf.data.Dataset.from_tensor_slices((X_train, target_train)).shuffle(buffer_size=4).batch(batch_size=50)\n",
    "val_ds = tf.data.Dataset.from_tensor_slices((X_val, target_val)).batch(batch_size=50)\n",
    "train_ds"
   ]
  },
  {
   "cell_type": "code",
   "execution_count": 9,
   "id": "56a1411f",
   "metadata": {},
   "outputs": [],
   "source": [
    "input_dim = len(char2idx)\n",
    "output_dim = len(char2idx)"
   ]
  },
  {
   "cell_type": "code",
   "execution_count": 10,
   "id": "9be52520",
   "metadata": {},
   "outputs": [
    {
     "name": "stdout",
     "output_type": "stream",
     "text": [
      "Model: \"sequential\"\n",
      "_________________________________________________________________\n",
      " Layer (type)                Output Shape              Param #   \n",
      "=================================================================\n",
      " embedding (Embedding)       (None, 30, 3)             9         \n",
      "                                                                 \n",
      " lstm (LSTM)                 (None, 10)                560       \n",
      "                                                                 \n",
      " dense (Dense)               (None, 2)                 22        \n",
      "                                                                 \n",
      "=================================================================\n",
      "Total params: 591\n",
      "Trainable params: 582\n",
      "Non-trainable params: 9\n",
      "_________________________________________________________________\n"
     ]
    }
   ],
   "source": [
    "from tensorflow.keras import Sequential\n",
    "from tensorflow.keras import layers\n",
    "\n",
    "model = Sequential()\n",
    "model.add(layers.Embedding(input_dim=input_dim, output_dim=output_dim, mask_zero=True,\n",
    "             input_length=max_sequence, trainable=False, \n",
    "             embeddings_initializer=tf.keras.initializers.random_normal()))\n",
    "model.add(layers.LSTM(10))\n",
    "model.add(layers.Dense(2, activation='sigmoid'))\n",
    "\n",
    "\n",
    "    \n",
    "\n",
    "\n",
    "\n",
    "model.summary()\n"
   ]
  },
  {
   "cell_type": "code",
   "execution_count": 11,
   "id": "ecc88231",
   "metadata": {},
   "outputs": [],
   "source": [
    "loss_object = tf.keras.losses.MeanSquaredError()\n",
    "optimizer = tf.keras.optimizers.Adam(learning_rate = 0.00025)"
   ]
  },
  {
   "cell_type": "code",
   "execution_count": 12,
   "id": "bf3f1c7e",
   "metadata": {},
   "outputs": [],
   "source": [
    "train_loss = tf.keras.metrics.Mean(name='train_loss')\n",
    "train_accuracy = tf.keras.metrics.CategoricalAccuracy(name='train_accuracy')\n",
    "\n",
    "val_loss = tf.keras.metrics.Mean(name='val_loss')\n",
    "val_accuracy = tf.keras.metrics.CategoricalAccuracy(name='val_accuracy')"
   ]
  },
  {
   "cell_type": "code",
   "execution_count": 13,
   "id": "602be7f3",
   "metadata": {},
   "outputs": [],
   "source": [
    "@tf.function\n",
    "def train_step(X, target):\n",
    "    with tf.GradientTape() as tape:\n",
    "    # training=True is only needed if there are layers with different\n",
    "    # behavior during training versus inference (e.g. Dropout).\n",
    "        predictions = model(X, training=True)\n",
    "        loss = loss_object(target, predictions)\n",
    "    gradients = tape.gradient(loss, model.trainable_variables)\n",
    "    optimizer.apply_gradients(zip(gradients, model.trainable_variables))\n",
    "\n",
    "    train_loss(loss)\n",
    "    train_accuracy(target, predictions)"
   ]
  },
  {
   "cell_type": "code",
   "execution_count": 14,
   "id": "3c8fa686",
   "metadata": {},
   "outputs": [],
   "source": [
    "@tf.function\n",
    "def val_step(X_val, target_val):\n",
    "    # training=False is only needed if there are layers with different\n",
    "    # behavior during training versus inference (e.g. Dropout).\n",
    "    predictions = model(X_val, training=False)\n",
    "    loss = loss_object(target_val, predictions)\n",
    "    val_loss(loss)\n",
    "    val_accuracy(target_val, predictions)"
   ]
  },
  {
   "cell_type": "code",
   "execution_count": null,
   "id": "108c090b",
   "metadata": {},
   "outputs": [
    {
     "name": "stdout",
     "output_type": "stream",
     "text": [
      "Epoch 1, Loss: 0.24988806247711182, Acc: 51.761905670166016, val Loss: 0.24962033331394196, val Acc: 53.89507293701172\n",
      "Epoch 2, Loss: 0.24981993436813354, Acc: 51.761905670166016, val Loss: 0.2495039850473404, val Acc: 53.89507293701172\n",
      "Epoch 3, Loss: 0.24977388978004456, Acc: 51.761905670166016, val Loss: 0.24940432608127594, val Acc: 53.89507293701172\n",
      "Epoch 4, Loss: 0.24973583221435547, Acc: 51.761905670166016, val Loss: 0.24931380152702332, val Acc: 53.89507293701172\n",
      "Epoch 5, Loss: 0.24970315396785736, Acc: 51.761905670166016, val Loss: 0.2492365837097168, val Acc: 53.89507293701172\n",
      "Epoch 6, Loss: 0.24967695772647858, Acc: 51.761905670166016, val Loss: 0.24916942417621613, val Acc: 53.89507293701172\n",
      "Epoch 7, Loss: 0.24965381622314453, Acc: 51.761905670166016, val Loss: 0.24910752475261688, val Acc: 53.89507293701172\n",
      "Epoch 8, Loss: 0.24963292479515076, Acc: 51.761905670166016, val Loss: 0.24905087053775787, val Acc: 53.89507293701172\n",
      "Epoch 9, Loss: 0.24961407482624054, Acc: 51.761905670166016, val Loss: 0.24900054931640625, val Acc: 53.89507293701172\n",
      "Epoch 10, Loss: 0.2495952993631363, Acc: 51.761905670166016, val Loss: 0.24895308911800385, val Acc: 53.89507293701172\n",
      "Epoch 11, Loss: 0.2495759278535843, Acc: 51.761905670166016, val Loss: 0.24891012907028198, val Acc: 53.89507293701172\n",
      "Epoch 12, Loss: 0.24955427646636963, Acc: 51.761905670166016, val Loss: 0.2488657385110855, val Acc: 53.89507293701172\n",
      "Epoch 13, Loss: 0.2495289146900177, Acc: 51.761905670166016, val Loss: 0.24881872534751892, val Acc: 53.89507293701172\n",
      "Epoch 14, Loss: 0.24949750304222107, Acc: 51.761905670166016, val Loss: 0.24877041578292847, val Acc: 53.89507293701172\n",
      "Epoch 15, Loss: 0.24945585429668427, Acc: 51.761905670166016, val Loss: 0.24871192872524261, val Acc: 53.89507293701172\n",
      "Epoch 16, Loss: 0.2493942826986313, Acc: 51.761905670166016, val Loss: 0.248637855052948, val Acc: 53.89507293701172\n",
      "Epoch 17, Loss: 0.24929973483085632, Acc: 51.761905670166016, val Loss: 0.24855008721351624, val Acc: 53.89507293701172\n",
      "Epoch 18, Loss: 0.24914507567882538, Acc: 51.761905670166016, val Loss: 0.24844156205654144, val Acc: 53.89507293701172\n",
      "Epoch 19, Loss: 0.24892425537109375, Acc: 51.761905670166016, val Loss: 0.24836502969264984, val Acc: 53.89507293701172\n",
      "Epoch 20, Loss: 0.2486758679151535, Acc: 51.761905670166016, val Loss: 0.24835912883281708, val Acc: 53.89507293701172\n",
      "Epoch 21, Loss: 0.24846021831035614, Acc: 51.761905670166016, val Loss: 0.24839676916599274, val Acc: 53.89507293701172\n",
      "Epoch 22, Loss: 0.24828331172466278, Acc: 51.80952453613281, val Loss: 0.24845121800899506, val Acc: 53.89507293701172\n"
     ]
    }
   ],
   "source": [
    "EPOCHS = 25\n",
    "\n",
    "for epoch in range(EPOCHS):\n",
    "    # Reset the metrics at the start of the next epoch\n",
    "    train_loss.reset_states()\n",
    "    train_accuracy.reset_states()\n",
    "    val_loss.reset_states()\n",
    "    val_accuracy.reset_states()\n",
    "\n",
    "    for X_train, target_train in train_ds:\n",
    "        train_step(X_train, target_train)\n",
    "\n",
    "    for X_val, target_val in val_ds:\n",
    "        val_step(X_val, target_val)\n",
    "\n",
    "\n",
    "    print(\n",
    "    f'Epoch {epoch + 1}, '\n",
    "    f'Loss: {train_loss.result()}, '\n",
    "    f'Acc: {train_accuracy.result() * 100}, '\n",
    "    f'val Loss: {val_loss.result()}, '\n",
    "    f'val Acc: {val_accuracy.result() * 100}'\n",
    "    )"
   ]
  }
 ],
 "metadata": {
  "kernelspec": {
   "display_name": "Python 3 (ipykernel)",
   "language": "python",
   "name": "python3"
  },
  "language_info": {
   "codemirror_mode": {
    "name": "ipython",
    "version": 3
   },
   "file_extension": ".py",
   "mimetype": "text/x-python",
   "name": "python",
   "nbconvert_exporter": "python",
   "pygments_lexer": "ipython3",
   "version": "3.8.6"
  }
 },
 "nbformat": 4,
 "nbformat_minor": 5
}
