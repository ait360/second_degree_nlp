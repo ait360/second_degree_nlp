{
 "cells": [
  {
   "cell_type": "code",
   "execution_count": 1,
   "id": "768acfd3",
   "metadata": {},
   "outputs": [
    {
     "name": "stdout",
     "output_type": "stream",
     "text": [
      "Tensorflow: 2.10.0\n"
     ]
    }
   ],
   "source": [
    "import numpy as np\n",
    "from Tomita_Grammars import tomita_3\n",
    "from Training_Functions import make_train_set_for_target\n",
    "import tensorflow as tf\n",
    "\n",
    "print(f'Tensorflow: {tf.__version__}')\n"
   ]
  },
  {
   "cell_type": "code",
   "execution_count": 2,
   "id": "4de0e730",
   "metadata": {},
   "outputs": [],
   "source": [
    "target = tomita_3\n",
    "alphabet = \"01\""
   ]
  },
  {
   "cell_type": "code",
   "execution_count": 3,
   "id": "ce31b96b",
   "metadata": {},
   "outputs": [
    {
     "name": "stdout",
     "output_type": "stream",
     "text": [
      "made train set of size: 2726 , of which positive examples: 1302\n",
      "2726\n",
      "[('', True), ('0', True), ('1', True), ('00', True), ('01', True), ('11', True), ('10', False), ('011', True), ('001', True), ('111', True)]\n"
     ]
    }
   ],
   "source": [
    "train_set = make_train_set_for_target(target,alphabet)\n",
    "\n",
    "print(len(train_set))\n",
    "print(list(train_set.items())[:10])"
   ]
  },
  {
   "cell_type": "code",
   "execution_count": 4,
   "id": "b7209b66",
   "metadata": {},
   "outputs": [
    {
     "name": "stdout",
     "output_type": "stream",
     "text": [
      "['', '0', '1', '00', '01', '11', '10', '011', '001', '111']\n",
      "[True, True, True, True, True, True, False, True, True, True]\n",
      "[[0, 1], [0, 1], [0, 1], [0, 1], [0, 1], [0, 1], [1, 0], [0, 1], [0, 1], [0, 1]]\n"
     ]
    }
   ],
   "source": [
    "words = list(train_set.keys())\n",
    "pre_target = list(train_set.values())\n",
    "print(words[:10])\n",
    "print(pre_target[:10])\n",
    "\n",
    "target = []\n",
    "for i in pre_target:\n",
    "    if i:\n",
    "        target.append([0,1])\n",
    "    else:\n",
    "        target.append([1,0])\n",
    "print(target[:10])\n"
   ]
  },
  {
   "cell_type": "code",
   "execution_count": 5,
   "id": "c41250ed",
   "metadata": {},
   "outputs": [
    {
     "data": {
      "text/plain": [
       "{'<pad>': 0, '0': 1, '1': 2}"
      ]
     },
     "execution_count": 5,
     "metadata": {},
     "output_type": "execute_result"
    }
   ],
   "source": [
    "char_set = ['<pad>'] + list(alphabet)\n",
    "idx2char = {idx:char for idx, char in enumerate(char_set)}\n",
    "char2idx = {char:idx for idx, char in enumerate(char_set)}\n",
    "char2idx"
   ]
  },
  {
   "cell_type": "code",
   "execution_count": 6,
   "id": "4814838d",
   "metadata": {},
   "outputs": [],
   "source": [
    "X = list(map(lambda word: [char2idx.get(char) for char in word], words))\n",
    "X_len = list(map(lambda word: len(word), X))\n",
    "X_target = list(zip(X, target))\n",
    "np.random.shuffle(X_target)\n",
    "X = [i[0] for i in X_target]\n",
    "target = np.array([j[1] for j in X_target])"
   ]
  },
  {
   "cell_type": "code",
   "execution_count": 7,
   "id": "8c9bdbdc",
   "metadata": {},
   "outputs": [],
   "source": [
    "from tensorflow.keras.preprocessing.sequence import pad_sequences\n",
    "\n",
    "max_sequence = 30\n",
    "\n",
    "X = pad_sequences(X, maxlen=max_sequence, padding='post', truncating='post')\n",
    "\n",
    "X_train, X_val, target_train, target_val = X[:2100], X[2100:], target[:2100], target[2100:]"
   ]
  },
  {
   "cell_type": "code",
   "execution_count": 8,
   "id": "96898a7d",
   "metadata": {},
   "outputs": [
    {
     "data": {
      "text/plain": [
       "<BatchDataset element_spec=(TensorSpec(shape=(None, 30), dtype=tf.int32, name=None), TensorSpec(shape=(None, 2), dtype=tf.int32, name=None))>"
      ]
     },
     "execution_count": 8,
     "metadata": {},
     "output_type": "execute_result"
    }
   ],
   "source": [
    "train_ds = tf.data.Dataset.from_tensor_slices((X_train, target_train)).shuffle(buffer_size=4).batch(batch_size=32)\n",
    "val_ds = tf.data.Dataset.from_tensor_slices((X_val, target_val)).batch(batch_size=32)\n",
    "train_ds"
   ]
  },
  {
   "cell_type": "code",
   "execution_count": 9,
   "id": "56a1411f",
   "metadata": {},
   "outputs": [],
   "source": [
    "input_dim = len(char2idx)\n",
    "output_dim = len(char2idx)"
   ]
  },
  {
   "cell_type": "code",
   "execution_count": 10,
   "id": "9be52520",
   "metadata": {},
   "outputs": [
    {
     "name": "stdout",
     "output_type": "stream",
     "text": [
      "Model: \"sequential\"\n",
      "_________________________________________________________________\n",
      " Layer (type)                Output Shape              Param #   \n",
      "=================================================================\n",
      " embedding (Embedding)       (None, 30, 3)             9         \n",
      "                                                                 \n",
      " rnn (RNN)                   (None, 10)                310       \n",
      "                                                                 \n",
      " dense (Dense)               (None, 2)                 22        \n",
      "                                                                 \n",
      "=================================================================\n",
      "Total params: 341\n",
      "Trainable params: 332\n",
      "Non-trainable params: 9\n",
      "_________________________________________________________________\n"
     ]
    }
   ],
   "source": [
    "from tensorflow.keras import Sequential\n",
    "from tensorflow.keras import layers\n",
    "from SecondOrder import SecondOrderCell\n",
    "\n",
    "model = Sequential()\n",
    "model.add(layers.Embedding(input_dim=input_dim, output_dim=output_dim, mask_zero=True,\n",
    "             input_length=max_sequence, trainable=False, \n",
    "             embeddings_initializer=tf.keras.initializers.random_normal()))\n",
    "model.add(layers.RNN(SecondOrderCell(10, activation='tanh', \n",
    "                                      kernel_initializer='glorot_uniform')))\n",
    "model.add(layers.Dense(2, activation='sigmoid'))\n",
    "\n",
    "    \n",
    "\n",
    "\n",
    "\n",
    "model.summary()"
   ]
  },
  {
   "cell_type": "code",
   "execution_count": 11,
   "id": "f11c84a9",
   "metadata": {},
   "outputs": [],
   "source": [
    "loss_object = tf.keras.losses.MeanSquaredError()\n",
    "optimizer = tf.keras.optimizers.Adam(learning_rate = 0.001)\n",
    "# optimizer = tf.keras.optimizers.RMSprop(learning_rate=0.000125)\n",
    "# optimizer = tf.keras.optimizers.SGD(learning_rate=0.001)"
   ]
  },
  {
   "cell_type": "code",
   "execution_count": 12,
   "id": "34262e27",
   "metadata": {},
   "outputs": [],
   "source": [
    "train_loss = tf.keras.metrics.Mean(name='train_loss')\n",
    "train_accuracy = tf.keras.metrics.CategoricalAccuracy(name='train_accuracy')\n",
    "\n",
    "val_loss = tf.keras.metrics.Mean(name='val_loss')\n",
    "val_accuracy = tf.keras.metrics.CategoricalAccuracy(name='val_accuracy')"
   ]
  },
  {
   "cell_type": "code",
   "execution_count": 13,
   "id": "2888e1e6",
   "metadata": {},
   "outputs": [],
   "source": [
    "@tf.function\n",
    "def train_step(X, target):\n",
    "    with tf.GradientTape() as tape:\n",
    "    # training=True is only needed if there are layers with different\n",
    "    # behavior during training versus inference (e.g. Dropout).\n",
    "        predictions = model(X, training=True)\n",
    "        loss = loss_object(target, predictions)\n",
    "    gradients = tape.gradient(loss, model.trainable_variables)\n",
    "    optimizer.apply_gradients(zip(gradients, model.trainable_variables))\n",
    "\n",
    "    train_loss(loss)\n",
    "    train_accuracy(target, predictions)"
   ]
  },
  {
   "cell_type": "code",
   "execution_count": 14,
   "id": "9657cd9c",
   "metadata": {},
   "outputs": [],
   "source": [
    "@tf.function\n",
    "def val_step(X_val, target_val):\n",
    "    # training=False is only needed if there are layers with different\n",
    "    # behavior during training versus inference (e.g. Dropout).\n",
    "    predictions = model(X_val, training=False)\n",
    "    loss = loss_object(target_val, predictions)\n",
    "    val_loss(loss)\n",
    "    val_accuracy(target_val, predictions)"
   ]
  },
  {
   "cell_type": "code",
   "execution_count": 15,
   "id": "18648fed",
   "metadata": {
    "scrolled": true
   },
   "outputs": [
    {
     "name": "stdout",
     "output_type": "stream",
     "text": [
      "Epoch 100, Loss: 0.24957050383090973, Acc: 51.761905670166016, val Loss: 0.24886763095855713, val Acc: 53.993614196777344\n",
      "Epoch 200, Loss: 0.248867005109787, Acc: 51.761905670166016, val Loss: 0.24826321005821228, val Acc: 53.993614196777344\n",
      "Epoch 300, Loss: 0.2475038319826126, Acc: 51.666664123535156, val Loss: 0.24731484055519104, val Acc: 52.87540054321289\n",
      "Epoch 400, Loss: 0.24656662344932556, Acc: 54.47618865966797, val Loss: 0.24687261879444122, val Acc: 54.15335464477539\n",
      "Epoch 500, Loss: 0.24628522992134094, Acc: 55.857147216796875, val Loss: 0.24677729606628418, val Acc: 57.987220764160156\n",
      "Epoch 600, Loss: 0.24610820412635803, Acc: 55.66666793823242, val Loss: 0.2466259002685547, val Acc: 56.709266662597656\n",
      "Epoch 700, Loss: 0.24587798118591309, Acc: 55.095237731933594, val Loss: 0.24644902348518372, val Acc: 56.23003387451172\n",
      "Epoch 800, Loss: 0.24559199810028076, Acc: 55.380950927734375, val Loss: 0.24626128375530243, val Acc: 56.23003387451172\n",
      "Epoch 900, Loss: 0.245388463139534, Acc: 55.57143020629883, val Loss: 0.24605202674865723, val Acc: 56.38977813720703\n",
      "Epoch 1000, Loss: 0.24513334035873413, Acc: 56.0476188659668, val Loss: 0.24583785235881805, val Acc: 56.86901092529297\n",
      "Epoch 1100, Loss: 0.2449076920747757, Acc: 55.71428680419922, val Loss: 0.24561181664466858, val Acc: 57.188499450683594\n",
      "Epoch 1200, Loss: 0.24469323456287384, Acc: 55.57143020629883, val Loss: 0.24539613723754883, val Acc: 57.50798416137695\n",
      "Epoch 1300, Loss: 0.24453139305114746, Acc: 55.80952072143555, val Loss: 0.2452017068862915, val Acc: 57.348243713378906\n",
      "Epoch 1400, Loss: 0.24431723356246948, Acc: 56.23809814453125, val Loss: 0.2450229376554489, val Acc: 57.50798416137695\n",
      "Epoch 1500, Loss: 0.24416807293891907, Acc: 56.85714340209961, val Loss: 0.24487221240997314, val Acc: 58.14696502685547\n",
      "Epoch 1600, Loss: 0.24398130178451538, Acc: 57.33333206176758, val Loss: 0.24470770359039307, val Acc: 57.987220764160156\n",
      "Epoch 1700, Loss: 0.24370494484901428, Acc: 57.85714340209961, val Loss: 0.24454276263713837, val Acc: 57.987220764160156\n",
      "Epoch 1800, Loss: 0.24348966777324677, Acc: 57.666664123535156, val Loss: 0.2443470060825348, val Acc: 57.66773223876953\n",
      "Epoch 1900, Loss: 0.24322205781936646, Acc: 57.476192474365234, val Loss: 0.2441597431898117, val Acc: 57.348243713378906\n",
      "Epoch 2000, Loss: 0.24290235340595245, Acc: 57.238094329833984, val Loss: 0.2439386546611786, val Acc: 57.188499450683594\n",
      "Epoch 2100, Loss: 0.242547407746315, Acc: 56.9523811340332, val Loss: 0.24368520081043243, val Acc: 56.38977813720703\n",
      "Epoch 2200, Loss: 0.24221405386924744, Acc: 56.23809814453125, val Loss: 0.24339132010936737, val Acc: 55.75080108642578\n",
      "Epoch 2300, Loss: 0.2417612373828888, Acc: 55.857147216796875, val Loss: 0.24305219948291779, val Acc: 54.79233169555664\n",
      "Epoch 2400, Loss: 0.24124763906002045, Acc: 55.619049072265625, val Loss: 0.24262866377830505, val Acc: 54.47284698486328\n",
      "Epoch 2500, Loss: 0.24063463509082794, Acc: 55.42856979370117, val Loss: 0.24210457503795624, val Acc: 54.3130989074707\n",
      "Epoch 2600, Loss: 0.23976625502109528, Acc: 55.42856979370117, val Loss: 0.24146084487438202, val Acc: 54.15335464477539\n",
      "Epoch 2700, Loss: 0.2387135773897171, Acc: 55.42856979370117, val Loss: 0.24064472317695618, val Acc: 54.3130989074707\n",
      "Epoch 2800, Loss: 0.23742733895778656, Acc: 55.47618865966797, val Loss: 0.23956266045570374, val Acc: 54.3130989074707\n",
      "Epoch 2900, Loss: 0.23564733564853668, Acc: 55.42856979370117, val Loss: 0.2380847930908203, val Acc: 54.47284698486328\n",
      "Epoch 3000, Loss: 0.2333676517009735, Acc: 55.47618865966797, val Loss: 0.2360377013683319, val Acc: 54.63258743286133\n"
     ]
    }
   ],
   "source": [
    "EPOCHS = 3000\n",
    "\n",
    "for epoch in range(EPOCHS):\n",
    "    # Reset the metrics at the start of the next epoch\n",
    "    train_loss.reset_states()\n",
    "    train_accuracy.reset_states()\n",
    "    val_loss.reset_states()\n",
    "    val_accuracy.reset_states()\n",
    "\n",
    "    for X_train, target_train in train_ds:\n",
    "        train_step(X_train, target_train)\n",
    "\n",
    "    for X_val, target_val in val_ds:\n",
    "        val_step(X_val, target_val)\n",
    "    if (epoch + 1) % 100 == 0:\n",
    "        \n",
    "        print(\n",
    "        f'Epoch {epoch + 1}, '\n",
    "        f'Loss: {train_loss.result()}, '\n",
    "        f'Acc: {train_accuracy.result() * 100}, '\n",
    "        f'val Loss: {val_loss.result()}, '\n",
    "        f'val Acc: {val_accuracy.result() * 100}'\n",
    "        )"
   ]
  },
  {
   "cell_type": "code",
   "execution_count": null,
   "id": "73d7bf9f",
   "metadata": {},
   "outputs": [],
   "source": []
  }
 ],
 "metadata": {
  "kernelspec": {
   "display_name": "Python 3 (ipykernel)",
   "language": "python",
   "name": "python3"
  },
  "language_info": {
   "codemirror_mode": {
    "name": "ipython",
    "version": 3
   },
   "file_extension": ".py",
   "mimetype": "text/x-python",
   "name": "python",
   "nbconvert_exporter": "python",
   "pygments_lexer": "ipython3",
   "version": "3.8.6"
  }
 },
 "nbformat": 4,
 "nbformat_minor": 5
}
