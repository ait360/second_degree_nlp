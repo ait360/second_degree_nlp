{
 "cells": [
  {
   "cell_type": "code",
   "execution_count": 1,
   "id": "768acfd3",
   "metadata": {},
   "outputs": [
    {
     "name": "stdout",
     "output_type": "stream",
     "text": [
      "Tensorflow: 2.10.0\n"
     ]
    }
   ],
   "source": [
    "import numpy as np\n",
    "from Tomita_Grammars import tomita_3\n",
    "from Training_Functions import make_train_set_for_target\n",
    "import tensorflow as tf\n",
    "\n",
    "print(f'Tensorflow: {tf.__version__}')\n"
   ]
  },
  {
   "cell_type": "code",
   "execution_count": 2,
   "id": "4de0e730",
   "metadata": {},
   "outputs": [],
   "source": [
    "target = tomita_3\n",
    "alphabet = \"01\""
   ]
  },
  {
   "cell_type": "code",
   "execution_count": 3,
   "id": "ce31b96b",
   "metadata": {},
   "outputs": [
    {
     "name": "stdout",
     "output_type": "stream",
     "text": [
      "made train set of size: 2748 , of which positive examples: 1325\n",
      "2748\n",
      "[('', True), ('0', True), ('1', True), ('01', True), ('11', True), ('00', True), ('10', False), ('110', True), ('111', True), ('100', True)]\n"
     ]
    }
   ],
   "source": [
    "train_set = make_train_set_for_target(target,alphabet)\n",
    "\n",
    "print(len(train_set))\n",
    "print(list(train_set.items())[:10])"
   ]
  },
  {
   "cell_type": "code",
   "execution_count": 4,
   "id": "b7209b66",
   "metadata": {},
   "outputs": [
    {
     "name": "stdout",
     "output_type": "stream",
     "text": [
      "['', '0', '1', '01', '11', '00', '10', '110', '111', '100']\n",
      "[True, True, True, True, True, True, False, True, True, True]\n",
      "[1, 1, 1, 1, 1, 1, 0, 1, 1, 1]\n"
     ]
    }
   ],
   "source": [
    "words = list(train_set.keys())\n",
    "target = list(train_set.values())\n",
    "print(words[:10])\n",
    "print(target[:10])\n",
    "target = [int(i) for i in target]\n",
    "print(target[:10])\n"
   ]
  },
  {
   "cell_type": "code",
   "execution_count": 5,
   "id": "c41250ed",
   "metadata": {},
   "outputs": [
    {
     "data": {
      "text/plain": [
       "{'<pad>': 0, '0': 1, '1': 2}"
      ]
     },
     "execution_count": 5,
     "metadata": {},
     "output_type": "execute_result"
    }
   ],
   "source": [
    "char_set = ['<pad>'] + list(alphabet)\n",
    "idx2char = {idx:char for idx, char in enumerate(char_set)}\n",
    "char2idx = {char:idx for idx, char in enumerate(char_set)}\n",
    "char2idx"
   ]
  },
  {
   "cell_type": "code",
   "execution_count": 6,
   "id": "4814838d",
   "metadata": {},
   "outputs": [],
   "source": [
    "X = list(map(lambda word: [char2idx.get(char) for char in word], words))\n",
    "X_len = list(map(lambda word: len(word), X))"
   ]
  },
  {
   "cell_type": "code",
   "execution_count": 7,
   "id": "8c9bdbdc",
   "metadata": {},
   "outputs": [],
   "source": [
    "from tensorflow.keras.preprocessing.sequence import pad_sequences\n",
    "\n",
    "max_sequence = 30\n",
    "\n",
    "X = pad_sequences(X, maxlen=max_sequence, padding='post', truncating='post')"
   ]
  },
  {
   "cell_type": "code",
   "execution_count": 8,
   "id": "96898a7d",
   "metadata": {},
   "outputs": [
    {
     "data": {
      "text/plain": [
       "<BatchDataset element_spec=(TensorSpec(shape=(None, 30), dtype=tf.int32, name=None), TensorSpec(shape=(None,), dtype=tf.int32, name=None))>"
      ]
     },
     "execution_count": 8,
     "metadata": {},
     "output_type": "execute_result"
    }
   ],
   "source": [
    "train_ds = tf.data.Dataset.from_tensor_slices((X, target)).shuffle(buffer_size=4).batch(batch_size=50)\n",
    "train_ds"
   ]
  },
  {
   "cell_type": "code",
   "execution_count": 9,
   "id": "56a1411f",
   "metadata": {},
   "outputs": [],
   "source": [
    "input_dim = len(char2idx)\n",
    "output_dim = len(char2idx)"
   ]
  },
  {
   "cell_type": "code",
   "execution_count": 10,
   "id": "9be52520",
   "metadata": {},
   "outputs": [
    {
     "name": "stdout",
     "output_type": "stream",
     "text": [
      "Model: \"sequential\"\n",
      "_________________________________________________________________\n",
      " Layer (type)                Output Shape              Param #   \n",
      "=================================================================\n",
      " embedding (Embedding)       (None, 30, 3)             9         \n",
      "                                                                 \n",
      " rnn (RNN)                   (None, 10)                310       \n",
      "                                                                 \n",
      " dense (Dense)               (None, 2)                 22        \n",
      "                                                                 \n",
      "=================================================================\n",
      "Total params: 341\n",
      "Trainable params: 332\n",
      "Non-trainable params: 9\n",
      "_________________________________________________________________\n"
     ]
    }
   ],
   "source": [
    "from tensorflow.keras import Sequential\n",
    "from tensorflow.keras import layers\n",
    "from SecondDegree import SecondDegreeCell\n",
    "\n",
    "model = Sequential()\n",
    "model.add(layers.Embedding(input_dim=input_dim, output_dim=output_dim, mask_zero=True,\n",
    "             input_length=max_sequence, trainable=False, \n",
    "             embeddings_initializer=tf.keras.initializers.random_normal()))\n",
    "model.add(layers.RNN(SecondDegreeCell(10)))\n",
    "model.add(layers.Dense(2))\n",
    "\n",
    "    \n",
    "\n",
    "\n",
    "\n",
    "model.summary()"
   ]
  },
  {
   "cell_type": "code",
   "execution_count": 11,
   "id": "15121b31",
   "metadata": {},
   "outputs": [],
   "source": [
    "def loss_fn(model, X, y):\n",
    "    return tf.reduce_mean(tf.keras.losses.sparse_categorical_crossentropy(y_true=y, \n",
    "                                                                          y_pred=model(X), \n",
    "                                                                          from_logits=True))\n",
    "\n",
    "optimizer = tf.keras.optimizers.Adam(learning_rate=0.01)"
   ]
  },
  {
   "cell_type": "code",
   "execution_count": 12,
   "id": "25a7e32e",
   "metadata": {},
   "outputs": [
    {
     "name": "stdout",
     "output_type": "stream",
     "text": [
      "epoch:   5, tr_loss: 0.697136\n",
      "epoch:  10, tr_loss: 0.693413\n",
      "epoch:  15, tr_loss: 0.641204\n",
      "epoch:  20, tr_loss: 0.619596\n",
      "epoch:  25, tr_loss: 0.612444\n",
      "epoch:  30, tr_loss: 0.607704\n",
      "epoch:  35, tr_loss: 0.604628\n",
      "epoch:  40, tr_loss: 0.602374\n",
      "epoch:  45, tr_loss: 0.600474\n",
      "epoch:  50, tr_loss: 0.597893\n",
      "epoch:  55, tr_loss: 0.594824\n",
      "epoch:  60, tr_loss: 0.591238\n",
      "epoch:  65, tr_loss: 0.587961\n",
      "epoch:  70, tr_loss: 0.584938\n",
      "epoch:  75, tr_loss: 0.582311\n",
      "epoch:  80, tr_loss: 0.580053\n",
      "epoch:  85, tr_loss: 0.578240\n",
      "epoch:  90, tr_loss: 0.576728\n",
      "epoch:  95, tr_loss: 0.575432\n",
      "epoch: 100, tr_loss: 0.574328\n",
      "epoch: 105, tr_loss: 0.573372\n",
      "epoch: 110, tr_loss: 0.572492\n",
      "epoch: 115, tr_loss: 0.571686\n",
      "epoch: 120, tr_loss: 0.570945\n",
      "epoch: 125, tr_loss: 0.570305\n",
      "epoch: 130, tr_loss: 0.569473\n",
      "epoch: 135, tr_loss: 0.568709\n",
      "epoch: 140, tr_loss: 0.568012\n",
      "epoch: 145, tr_loss: 0.567268\n",
      "epoch: 150, tr_loss: 0.566454\n",
      "epoch: 155, tr_loss: 0.565762\n",
      "epoch: 160, tr_loss: 0.564969\n",
      "epoch: 165, tr_loss: 0.564057\n",
      "epoch: 170, tr_loss: 0.563234\n",
      "epoch: 175, tr_loss: 0.562333\n",
      "epoch: 180, tr_loss: 0.561569\n",
      "epoch: 185, tr_loss: 0.560732\n",
      "epoch: 190, tr_loss: 0.559788\n",
      "epoch: 195, tr_loss: 0.558948\n",
      "epoch: 200, tr_loss: 0.558008\n",
      "epoch: 205, tr_loss: 0.557135\n",
      "epoch: 210, tr_loss: 0.556200\n",
      "epoch: 215, tr_loss: 0.555140\n",
      "epoch: 220, tr_loss: 0.554190\n",
      "epoch: 225, tr_loss: 0.553431\n",
      "epoch: 230, tr_loss: 0.552487\n",
      "epoch: 235, tr_loss: 0.551603\n",
      "epoch: 240, tr_loss: 0.550560\n",
      "epoch: 245, tr_loss: 0.549692\n",
      "epoch: 250, tr_loss: 0.548849\n"
     ]
    }
   ],
   "source": [
    "tr_loss_hist = []\n",
    "\n",
    "for e in range(250):\n",
    "    avg_tr_loss = 0\n",
    "    tr_step = 0\n",
    "    \n",
    "    for x_mb, y_mb in train_ds:\n",
    "        with tf.GradientTape() as tape:\n",
    "            tr_loss = loss_fn(model, x_mb, y_mb)\n",
    "            \n",
    "        grads = tape.gradient(tr_loss, sources=model.variables)\n",
    "        optimizer.apply_gradients(grads_and_vars=zip(grads, model.variables))\n",
    "        avg_tr_loss += tr_loss\n",
    "        tr_step += 1\n",
    "    \n",
    "    avg_tr_loss /= tr_step\n",
    "    tr_loss_hist.append(avg_tr_loss)\n",
    "    \n",
    "    if (e + 1) % 5 == 0:\n",
    "        print('epoch: {:3}, tr_loss: {:3f}'.format(e + 1, avg_tr_loss))"
   ]
  },
  {
   "cell_type": "code",
   "execution_count": 13,
   "id": "1423d471",
   "metadata": {},
   "outputs": [
    {
     "name": "stdout",
     "output_type": "stream",
     "text": [
      "86/86 [==============================] - 0s 2ms/step\n"
     ]
    }
   ],
   "source": [
    "y_pred = model.predict(X)\n",
    "y_pred = np.argmax(y_pred, axis=-1)"
   ]
  },
  {
   "cell_type": "code",
   "execution_count": 14,
   "id": "25c54ac1",
   "metadata": {},
   "outputs": [
    {
     "name": "stdout",
     "output_type": "stream",
     "text": [
      "acc: 74.02%\n"
     ]
    }
   ],
   "source": [
    "print(f'acc: {np.mean(y_pred == target):.2%}')"
   ]
  },
  {
   "cell_type": "code",
   "execution_count": null,
   "id": "73d7bf9f",
   "metadata": {},
   "outputs": [],
   "source": []
  }
 ],
 "metadata": {
  "kernelspec": {
   "display_name": "Python 3 (ipykernel)",
   "language": "python",
   "name": "python3"
  },
  "language_info": {
   "codemirror_mode": {
    "name": "ipython",
    "version": 3
   },
   "file_extension": ".py",
   "mimetype": "text/x-python",
   "name": "python",
   "nbconvert_exporter": "python",
   "pygments_lexer": "ipython3",
   "version": "3.8.6"
  }
 },
 "nbformat": 4,
 "nbformat_minor": 5
}
